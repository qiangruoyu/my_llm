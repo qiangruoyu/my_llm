{
 "cells": [
  {
   "cell_type": "markdown",
   "id": "9b0e7a3d",
   "metadata": {},
   "source": [
    "## basics"
   ]
  },
  {
   "cell_type": "markdown",
   "id": "e6d3107f",
   "metadata": {},
   "source": [
    "- $q_t\\approx Q_\\pi(s_t,a_t)$\n",
    "    - REINFOCE: $q_t\\approx Q_\\pi(s_t,a_t)\\approx u_t=\\sum_{k=t}\\gamma^{k-t}r_{k}=r_t+\\gamma r_{t+1}+\\gamma^2r_{t+2}+\\cdots$\n",
    "    - AC: using a NN\n",
    "        - Actor: $\\pi(a|s;\\theta)$, learn the policy network by Policy Gradient\n",
    "        - Critic: $Q_\\pi(s,a)$, 评估动作的好坏；"
   ]
  }
 ],
 "metadata": {
  "kernelspec": {
   "display_name": "Python 3 (ipykernel)",
   "language": "python",
   "name": "python3"
  },
  "language_info": {
   "codemirror_mode": {
    "name": "ipython",
    "version": 3
   },
   "file_extension": ".py",
   "mimetype": "text/x-python",
   "name": "python",
   "nbconvert_exporter": "python",
   "pygments_lexer": "ipython3",
   "version": "3.10.9"
  },
  "toc": {
   "base_numbering": 1,
   "nav_menu": {},
   "number_sections": true,
   "sideBar": true,
   "skip_h1_title": false,
   "title_cell": "Table of Contents",
   "title_sidebar": "Contents",
   "toc_cell": false,
   "toc_position": {},
   "toc_section_display": true,
   "toc_window_display": false
  }
 },
 "nbformat": 4,
 "nbformat_minor": 5
}
