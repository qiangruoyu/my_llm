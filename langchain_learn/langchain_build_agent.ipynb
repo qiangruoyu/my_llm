{
 "cells": [
  {
   "cell_type": "markdown",
   "metadata": {},
   "source": [
    "# langchain学习"
   ]
  },
  {
   "cell_type": "markdown",
   "metadata": {},
   "source": [
    "安装python包"
   ]
  },
  {
   "cell_type": "code",
   "execution_count": 11,
   "metadata": {},
   "outputs": [
    {
     "name": "stdout",
     "output_type": "stream",
     "text": [
      "Looking in indexes: https://pypi.tuna.tsinghua.edu.cn/simple\n",
      "\u001b[31mERROR: Ignored the following versions that require a different python version: 0.0.1 Requires-Python >=3.8.1,<4.0; 0.0.10 Requires-Python >=3.8.1,<4.0; 0.0.11 Requires-Python >=3.8.1,<4.0; 0.0.12 Requires-Python >=3.8.1,<4.0; 0.0.13 Requires-Python >=3.8.1,<4.0; 0.0.14 Requires-Python >=3.8.1,<4.0; 0.0.15 Requires-Python >=3.8.1,<4.0; 0.0.16 Requires-Python >=3.8.1,<4.0; 0.0.17 Requires-Python >=3.8.1,<4.0; 0.0.18 Requires-Python >=3.8.1,<4.0; 0.0.19 Requires-Python >=3.8.1,<4.0; 0.0.1rc1 Requires-Python >=3.8.1,<4.0; 0.0.1rc2 Requires-Python >=3.8.1,<4.0; 0.0.2 Requires-Python >=3.8.1,<4.0; 0.0.20 Requires-Python >=3.8.1,<4.0; 0.0.21 Requires-Python >=3.8.1,<4.0; 0.0.22 Requires-Python >=3.8.1,<4.0; 0.0.23 Requires-Python >=3.8.1,<4.0; 0.0.24 Requires-Python >=3.8.1,<4.0; 0.0.25 Requires-Python >=3.8.1,<4.0; 0.0.26 Requires-Python >=3.8.1,<4.0; 0.0.27 Requires-Python >=3.8.1,<4.0; 0.0.28 Requires-Python >=3.8.1,<4.0; 0.0.29 Requires-Python <4.0,>=3.8.1; 0.0.3 Requires-Python >=3.8.1,<4.0; 0.0.30 Requires-Python <4.0,>=3.8.1; 0.0.31 Requires-Python <4.0,>=3.8.1; 0.0.32 Requires-Python <4.0,>=3.8.1; 0.0.33 Requires-Python <4.0,>=3.8.1; 0.0.34 Requires-Python <4.0,>=3.8.1; 0.0.35 Requires-Python <4.0,>=3.8.1; 0.0.36 Requires-Python <4.0,>=3.8.1; 0.0.37 Requires-Python <4.0,>=3.8.1; 0.0.38 Requires-Python <4.0,>=3.8.1; 0.0.4 Requires-Python >=3.8.1,<4.0; 0.0.5 Requires-Python >=3.8.1,<4.0; 0.0.6 Requires-Python >=3.8.1,<4.0; 0.0.7 Requires-Python >=3.8.1,<4.0; 0.0.8 Requires-Python >=3.8.1,<4.0; 0.0.9 Requires-Python >=3.8.1,<4.0; 0.2.0 Requires-Python <4.0,>=3.8.1; 0.2.0rc1 Requires-Python <4.0,>=3.8.1; 0.2.1 Requires-Python <4.0,>=3.8.1; 0.2.2 Requires-Python <4.0,>=3.8.1; 0.2.3 Requires-Python <4.0,>=3.8.1; 0.2.4 Requires-Python <4.0,>=3.8.1\u001b[0m\u001b[31m\n",
      "\u001b[0m\u001b[31mERROR: Could not find a version that satisfies the requirement langchain-community (from versions: none)\u001b[0m\u001b[31m\n",
      "\u001b[0m\u001b[31mERROR: No matching distribution found for langchain-community\u001b[0m\u001b[31m\n",
      "\u001b[0mNote: you may need to restart the kernel to use updated packages.\n"
     ]
    }
   ],
   "source": [
    "%pip install -U langchain-community langgraph langchain-anthropic tavily-python"
   ]
  },
  {
   "cell_type": "markdown",
   "metadata": {},
   "source": [
    "### 一、切割文档用于制作知识库"
   ]
  },
  {
   "cell_type": "code",
   "execution_count": 2,
   "metadata": {},
   "outputs": [
    {
     "name": "stdout",
     "output_type": "stream",
     "text": [
      "{'agent': {'messages': [AIMessage(content=\"Hello Bob! Nice to meet you in San Francisco! What brings you here? \\n\\nSan Francisco is a vibrant and diverse city known for its rich history, stunning architecture, iconic landmarks, and a thriving arts and culture scene. As an AI language model, I'm well-equipped to provide information on various aspects of the city's culture, attractions, and popular neighborhoods.\\n\\nIn terms of cultural activities, San Francisco offers a wide range of options. Here are some must-visit places:\\n\\n1. Golden Gate Bridge: One of the most recognizable landmarks in the world, the Golden Gate Bridge is a suspension bridge that spans the Golden Gate Strait, connecting San Francisco Bay with Marin County. You can take a walk across the bridge or explore the surrounding parks like Golden Gate Park, where you'll find gardens, museums, and many recreational opportunities.\\n\\n2. Alcatraz Island: This former federal prison was converted into a National Park and has been a tourist attraction since the 1960s. The tour takes visitors through the prison cells, the infamous visitation area, and the prison grounds. It's also home to various museums and exhibits related to history and justice.\\n\\n3. Fisherman's Wharf: This bustling waterfront neighborhood is known for its seafood restaurants, street performers, and souvenir shops. It's a great place to sample local cuisine and enjoy entertainment like a firework display or street theatre performances.\\n\\n4. Chinatown: Located in the southeastern part of the city, San Francisco's Chinatown is the largest Chinatown outside of Asia. Here, you'll find authentic Chinese food, shopping, temples, and street markets. The historic streets and colorful buildings make it a unique cultural experience.\\n\\n5. Palace of Fine Arts: This beautiful building houses several exhibitions and cultural institutions, including the California Academy of Sciences and the San Francisco Museum of Modern Art (SFMOMA). The palace hosts lectures, concerts, and art shows throughout the year.\\n\\nAs for the best neighborhoods to stay in, here are some highly rated options:\\n\\n1. Hayes Valley: This charming residential neighborhood is known for its tree-lined streets, trendy boutiques, coffee shops, and galleries. It's perfect for those looking for a cozy ambiance and convenient access to restaurants, cafes, and public transportation.\\n\\n2. Mission District: This diverse and eclectic neighborhood is famous for its Latinx heritage, murals, street art, and music scenes. You'll find trendy bars, cafes, record stores, and boutique shops along with the famous Potrero Hill neighborhood.\\n\\n3. Castro: Home to many LGBTQ+ rights activists, the Castro district is one of the most LGBTQI+-friendly neighborhoods in the country. It features a variety of clubs, theaters, and bars, as well as colorful street art and an annual Pride Parade.\\n\\nThese are just a few highlights, but there are countless other attractions, neighborhoods, and experiences to discover in San Francisco. If you have any specific interests or preferences, feel free to let me know, and I can provide more tailored recommendations!\", response_metadata={'model_name': 'qwen1.5-1.8b-chat', 'finish_reason': 'stop', 'request_id': 'c4a5f307-476d-9703-aa89-a73ddd0d4c79', 'token_usage': {'input_tokens': 220, 'output_tokens': 608, 'total_tokens': 828}}, id='run-f7812cc2-24e5-42a0-94f2-bc535a6da188-0')]}}\n",
      "----\n",
      "{'agent': {'messages': [AIMessage(content=\"Unfortunately, as an AI language model, I don't have access to real-time weather data or information about your location in San Francisco, as my database only covers general information about cities around the globe. However, I can give you an estimated weather forecast based on the average conditions for your region.\\n\\nAccording to the Weather Channel, the average temperature in San Francisco during March to May ranges from 57°F (14°C) to 81°F (27°C), with mild winters and hot summers. In March, temperatures tend to be slightly lower than usual due to higher humidity and cloud cover, while in April to May, the weather gradually warms up with an increase in sunlight.\\n\\nFor outdoor activities such as walking, biking, or hiking, the chances of encountering rain in the spring months (March to May) are typically lower, with fewer days experiencing precipitation compared to winter. However, it's essential to keep an eye on weather alerts and forecasts as they can change frequently, especially during peak season.\\n\\nIf you're interested in getting an idea of what the current weather might be like in San Francisco, you can check the official website of the San Francisco Department of Public Utilities or use a mobile app that provides real-time updates on weather conditions. Alternatively, if you prefer more detailed historical weather records, you can consult historical weather data available through APIs like OpenWeatherMap or AccuWeather, which may offer hourly or daily forecasts for the past several years.\\n\\nRemember to dress appropriately for the weather and check local weather reports for any potential hazards, such as strong winds or flash floods, before engaging in outdoor activities in the San Francisco area. Enjoy your time in the city knowing that you're in good company with locals who appreciate its natural beauty and vibrant atmosphere.\", response_metadata={'model_name': 'qwen1.5-1.8b-chat', 'finish_reason': 'stop', 'request_id': '58b9ce4f-1062-9e15-849a-5443773cc465', 'token_usage': {'input_tokens': 846, 'output_tokens': 354, 'total_tokens': 1200}}, id='run-8330da22-8b29-4801-95b1-702a60bc0512-0')]}}\n",
      "----\n"
     ]
    }
   ],
   "source": [
    "# Import relevant functionality\n",
    "# 导入ChatAnthropic类，用于创建具有人类般推理能力的聊天机器人\n",
    "from langchain_anthropic import ChatAnthropic\n",
    "from langchain_community.chat_models import ChatTongyi\n",
    "# 导入TavilySearchResults类，用于处理Tavily搜索算法的结果\n",
    "from langchain_community.tools.tavily_search import TavilySearchResults\n",
    "# 导入HumanMessage类，用于表示人类用户的输入消息\n",
    "from langchain_core.messages import HumanMessage\n",
    "# 导入SqliteSaver类，用于将聊天记录保存到SQLite数据库\n",
    "from langgraph.checkpoint.sqlite import SqliteSaver\n",
    "# 导入create_react_agent函数，用于创建一个反应式代理\n",
    "from langgraph.prebuilt import create_react_agent\n",
    "\n",
    "# Create the agent\n",
    "memory = SqliteSaver.from_conn_string(\":memory:\")\n",
    "# model = ChatAnthropic(model_name=\"claude-3-sonnet-20240229\")\n",
    "model = ChatTongyi(model_name=\"qwen1.5-1.8b-chat\")\n",
    "search = TavilySearchResults(max_results=2)\n",
    "tools = [search]\n",
    "agent_executor = create_react_agent(model, tools, checkpointer=memory)\n",
    "\n",
    "# Use the agent\n",
    "config = {\"configurable\": {\"thread_id\": \"abc123\"}}\n",
    "for chunk in agent_executor.stream(\n",
    "    {\"messages\": [HumanMessage(content=\"hi im bob! and i live in sf\")]}, config\n",
    "):\n",
    "    print(chunk)\n",
    "    print(\"----\")\n",
    "\n",
    "for chunk in agent_executor.stream(\n",
    "    {\"messages\": [HumanMessage(content=\"whats the weather where I live?\")]}, config\n",
    "):\n",
    "    print(chunk)\n",
    "    print(\"----\")"
   ]
  },
  {
   "cell_type": "markdown",
   "metadata": {},
   "source": [
    "### 二、设置emmbeding层，用于数据的向量化，存入数据库"
   ]
  },
  {
   "cell_type": "code",
   "execution_count": 6,
   "metadata": {},
   "outputs": [],
   "source": [
    "from langchain_community.embeddings import DashScopeEmbeddings\n",
    "embedding_name = r\"text-embedding-v1\"\n",
    "ds_embeddings = DashScopeEmbeddings(model=embedding_name)\n"
   ]
  },
  {
   "cell_type": "markdown",
   "metadata": {},
   "source": [
    "### 三、保存向量到数据库"
   ]
  },
  {
   "cell_type": "code",
   "execution_count": 9,
   "metadata": {},
   "outputs": [],
   "source": [
    "from langchain_community.vectorstores import Chroma\n",
    "import sentence_transformers\n",
    "\n",
    "# # 初始化数据库\n",
    "# db = Chroma.from_documents(split_docs, ds_embeddings,persist_directory=\"./chroma/news_test\")\n",
    "# # 持久化\n",
    "# db.persist()\n",
    "# 对数据进行加载\n",
    "db = Chroma(persist_directory=\"./chroma/news_test\", embedding_function=ds_embeddings)\n",
    "\n"
   ]
  },
  {
   "cell_type": "markdown",
   "metadata": {},
   "source": [
    "### 四、测试知识库是否可用"
   ]
  },
  {
   "cell_type": "code",
   "execution_count": 12,
   "metadata": {},
   "outputs": [
    {
     "name": "stdout",
     "output_type": "stream",
     "text": [
      "[Document(page_content='为至宝，怎肯轻与你这粉骷髅。”他两个散言碎语的，直斗到更深，唐长老全不动念。那女怪扯扯拉拉的不放，这师父只是老老成成的不肯。直缠到有半夜时候，把那怪弄得恼了，叫：“小的们，拿绳来！”可怜将一个心爱的人', metadata={'source': '西游记.txt'}), Document(page_content='的，若不做个威风，他怎肯服降哩？”陡然间，就狐假虎威，红须倒竖，血发朝天，眼睛迸裂，大喝一声道：“带那和尚进来！”众妖们，大家响响的答应了一声“是！”就把三藏望里面只是一推。这是既在矮檐下，怎敢不低头', metadata={'source': '西游记.txt'}), Document(page_content='！”那妖精就举铲来敌。这一场，从天井中斗出前门。看他三僧攒一怪！好杀：', metadata={'source': '西游记.txt'}), Document(page_content='打杀了，拖在门口骂战哩。”那老妖闻言，愈加烦恼道：“这厮却也无知！我倒不曾吃他师父，他转打杀我家先锋，可恨！可恨！”叫：“取披挂来。我也只闻得讲甚么孙行者，等我出去，看是个甚么九头八尾的和尚，拿他进来', metadata={'source': '西游记.txt'})]\n"
     ]
    }
   ],
   "source": [
    "question = \"三打白骨精\"\n",
    "# 寻找四个相似的样本\n",
    "similarDocs = db.similarity_search(question,k=4)\n",
    "print(similarDocs)\n"
   ]
  },
  {
   "cell_type": "markdown",
   "metadata": {},
   "source": [
    "### 五、调用大模型来结合数据库来问答"
   ]
  },
  {
   "cell_type": "code",
   "execution_count": 23,
   "metadata": {},
   "outputs": [
    {
     "name": "stdout",
     "output_type": "stream",
     "text": [
      " 三打白骨精是上卷的第二十七回。\n"
     ]
    }
   ],
   "source": [
    "\n",
    "from langchain.chains import RetrievalQA\n",
    "from langchain_community.llms import Tongyi\n",
    "\n",
    "retriever = db.as_retriever()\n",
    "qa = RetrievalQA.from_chain_type(llm=Tongyi(), retriever=retriever)\n",
    "\n",
    "query = \"三打白骨精是第几章？\"\n",
    "print(qa.run(query))\n"
   ]
  },
  {
   "cell_type": "markdown",
   "metadata": {},
   "source": [
    "### 注：\n",
    " 教程采用了通义千问的emmbeding层和大模型，需要到阿里云上根据教程设置调用的key\n",
    " 链接：https://help.aliyun.com/zh/dashscope/developer-reference/activate-dashscope-and-create-an-api-key?spm=a2c4g.11186623.0.i21"
   ]
  }
 ],
 "metadata": {
  "kernelspec": {
   "display_name": "BI",
   "language": "python",
   "name": "python3"
  },
  "language_info": {
   "codemirror_mode": {
    "name": "ipython",
    "version": 3
   },
   "file_extension": ".py",
   "mimetype": "text/x-python",
   "name": "python",
   "nbconvert_exporter": "python",
   "pygments_lexer": "ipython3",
   "version": "3.9.18"
  }
 },
 "nbformat": 4,
 "nbformat_minor": 2
}
