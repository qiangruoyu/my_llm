{
 "cells": [
  {
   "cell_type": "markdown",
   "metadata": {},
   "source": [
    "# langchain学习"
   ]
  },
  {
   "cell_type": "markdown",
   "metadata": {},
   "source": [
    "### 一、切割文档用于制作知识库"
   ]
  },
  {
   "cell_type": "code",
   "execution_count": null,
   "metadata": {},
   "outputs": [],
   "source": [
    "from langchain_community.document_loaders import UnstructuredFileLoader\n",
    "# 旧版用法\n",
    "# from langchain.document_loaders import UnstructuredFileLoader\n",
    "\n",
    "from langchain.text_splitter import RecursiveCharacterTextSplitter\n",
    "\n",
    "# 导入文本\n",
    "loader = UnstructuredFileLoader(\"西游记.txt\")\n",
    "# 将文本转成 Document 对象\n",
    "data = loader.load()\n",
    "print(f'documents:{len(data)}')\n",
    "\n",
    "# 初始化加载器\n",
    "text_splitter = RecursiveCharacterTextSplitter(chunk_size=100, chunk_overlap=0)\n",
    "# 切割加载的 document\n",
    "split_docs = text_splitter.split_documents(data)\n",
    "print(\"split_docs size:\",len(split_docs))\n",
    "print(split_docs)"
   ]
  },
  {
   "cell_type": "markdown",
   "metadata": {},
   "source": [
    "### 二、设置emmbeding层，用于数据的向量化，存入数据库"
   ]
  },
  {
   "cell_type": "code",
   "execution_count": 6,
   "metadata": {},
   "outputs": [],
   "source": [
    "from langchain_community.embeddings import DashScopeEmbeddings\n",
    "embedding_name = r\"text-embedding-v1\"\n",
    "ds_embeddings = DashScopeEmbeddings(model=embedding_name)\n"
   ]
  },
  {
   "cell_type": "markdown",
   "metadata": {},
   "source": [
    "### 三、保存向量到数据库"
   ]
  },
  {
   "cell_type": "code",
   "execution_count": 9,
   "metadata": {},
   "outputs": [],
   "source": [
    "from langchain_community.vectorstores import Chroma\n",
    "import sentence_transformers\n",
    "\n",
    "# # 初始化数据库\n",
    "# db = Chroma.from_documents(split_docs, ds_embeddings,persist_directory=\"./chroma/news_test\")\n",
    "# # 持久化\n",
    "# db.persist()\n",
    "# 对数据进行加载\n",
    "db = Chroma(persist_directory=\"./chroma/news_test\", embedding_function=ds_embeddings)\n",
    "\n"
   ]
  },
  {
   "cell_type": "markdown",
   "metadata": {},
   "source": [
    "### 四、测试知识库是否可用"
   ]
  },
  {
   "cell_type": "code",
   "execution_count": 12,
   "metadata": {},
   "outputs": [
    {
     "name": "stdout",
     "output_type": "stream",
     "text": [
      "[Document(page_content='为至宝，怎肯轻与你这粉骷髅。”他两个散言碎语的，直斗到更深，唐长老全不动念。那女怪扯扯拉拉的不放，这师父只是老老成成的不肯。直缠到有半夜时候，把那怪弄得恼了，叫：“小的们，拿绳来！”可怜将一个心爱的人', metadata={'source': '西游记.txt'}), Document(page_content='的，若不做个威风，他怎肯服降哩？”陡然间，就狐假虎威，红须倒竖，血发朝天，眼睛迸裂，大喝一声道：“带那和尚进来！”众妖们，大家响响的答应了一声“是！”就把三藏望里面只是一推。这是既在矮檐下，怎敢不低头', metadata={'source': '西游记.txt'}), Document(page_content='！”那妖精就举铲来敌。这一场，从天井中斗出前门。看他三僧攒一怪！好杀：', metadata={'source': '西游记.txt'}), Document(page_content='打杀了，拖在门口骂战哩。”那老妖闻言，愈加烦恼道：“这厮却也无知！我倒不曾吃他师父，他转打杀我家先锋，可恨！可恨！”叫：“取披挂来。我也只闻得讲甚么孙行者，等我出去，看是个甚么九头八尾的和尚，拿他进来', metadata={'source': '西游记.txt'})]\n"
     ]
    }
   ],
   "source": [
    "question = \"三打白骨精\"\n",
    "# 寻找四个相似的样本\n",
    "similarDocs = db.similarity_search(question,k=4)\n",
    "print(similarDocs)\n"
   ]
  },
  {
   "cell_type": "markdown",
   "metadata": {},
   "source": [
    "### 五、调用大模型来结合数据库来问答"
   ]
  },
  {
   "cell_type": "code",
   "execution_count": 23,
   "metadata": {},
   "outputs": [
    {
     "name": "stdout",
     "output_type": "stream",
     "text": [
      " 三打白骨精是上卷的第二十七回。\n"
     ]
    }
   ],
   "source": [
    "\n",
    "from langchain.chains import RetrievalQA\n",
    "from langchain_community.llms import Tongyi\n",
    "\n",
    "retriever = db.as_retriever()\n",
    "qa = RetrievalQA.from_chain_type(llm=Tongyi(), retriever=retriever)\n",
    "\n",
    "query = \"三打白骨精是第几章？\"\n",
    "print(qa.run(query))\n"
   ]
  },
  {
   "cell_type": "markdown",
   "metadata": {},
   "source": [
    "### 注：\n",
    "#### 教程采用了通义千问的emmbeding层和大模型，需要到阿里云上根据教程设置调用的key\n",
    "#### 链接：https://help.aliyun.com/zh/dashscope/developer-reference/activate-dashscope-and-create-an-api-key?spm=a2c4g.11186623.0.i21"
   ]
  },
  {
   "cell_type": "markdown",
   "metadata": {},
   "source": []
  }
 ],
 "metadata": {
  "kernelspec": {
   "display_name": "BI",
   "language": "python",
   "name": "python3"
  },
  "language_info": {
   "codemirror_mode": {
    "name": "ipython",
    "version": 3
   },
   "file_extension": ".py",
   "mimetype": "text/x-python",
   "name": "python",
   "nbconvert_exporter": "python",
   "pygments_lexer": "ipython3",
   "version": "3.9.18"
  }
 },
 "nbformat": 4,
 "nbformat_minor": 2
}
